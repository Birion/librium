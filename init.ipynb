{
  "cells": [
    {
      "cell_type": "code",
      "execution_count": 1,
      "metadata": {
        "collapsed": true,
        "pycharm": {
          "name": "#%%\n",
          "is_executing": false
        }
      },
      "outputs": [],
      "source": "from librium.database import *\nfrom csv import DictReader\nimport re\nfrom sqlalchemy.orm.exc import NoResultFound"
    },
    {
      "cell_type": "code",
      "execution_count": 5,
      "outputs": [],
      "source": "with open(\"books.csv\") as fp:\n    books \u003d [x for x in DictReader(fp)]",
      "metadata": {
        "pycharm": {
          "metadata": false,
          "name": "#%%\n",
          "is_executing": false
        }
      }
    },
    {
      "cell_type": "code",
      "execution_count": 8,
      "outputs": [
        {
          "name": "stdout",
          "text": [
            "SeriesIndex(book_id\u003d\u003cnot loaded\u003e, series_id\u003d\u003cnot loaded\u003e, idx\u003d1.0)\nSeriesIndex(book_id\u003d\u003cnot loaded\u003e, series_id\u003d\u003cnot loaded\u003e, idx\u003d17.0)\nSeriesIndex(book_id\u003d\u003cnot loaded\u003e, series_id\u003d\u003cnot loaded\u003e, idx\u003d20.0)\nSeriesIndex(book_id\u003d\u003cnot loaded\u003e, series_id\u003d\u003cnot loaded\u003e, idx\u003d13.0)\nSeriesIndex(book_id\u003d\u003cnot loaded\u003e, series_id\u003d\u003cnot loaded\u003e, idx\u003d23.0)\nSeriesIndex(book_id\u003d\u003cnot loaded\u003e, series_id\u003d\u003cnot loaded\u003e, idx\u003d5.0)\nSeriesIndex(book_id\u003d\u003cnot loaded\u003e, series_id\u003d\u003cnot loaded\u003e, idx\u003d4.0)\nSeriesIndex(book_id\u003d\u003cnot loaded\u003e, series_id\u003d\u003cnot loaded\u003e, idx\u003d1.0)\n",
            "SeriesIndex(book_id\u003d\u003cnot loaded\u003e, series_id\u003d\u003cnot loaded\u003e, idx\u003d2.0)\nSeriesIndex(book_id\u003d\u003cnot loaded\u003e, series_id\u003d\u003cnot loaded\u003e, idx\u003d6.0)\nSeriesIndex(book_id\u003d\u003cnot loaded\u003e, series_id\u003d\u003cnot loaded\u003e, idx\u003d7.0)\n"
          ],
          "output_type": "stream"
        }
      ],
      "source": "for book in books:\n    # db_book \u003d Book.query.filter(Book.isbn \u003d\u003d book[\"isbn\"], Book.title \u003d\u003d book[\"title\"]).one()\n    hardcover \u003d Format.query.filter(Format.name \u003d\u003d \"Hard cover\").first()\n    paperback \u003d Format.query.filter(Format.name \u003d\u003d \"Paperback\").first()\n\n    db_book \u003d Book(\n        title\u003dbook[\"title\"],\n        isbn\u003dbook[\"isbn\"],\n        page_count\u003dbook[\"pages\"],\n        price\u003dfloat(book[\"list_price\"]),\n        read\u003dbook[\"read\"] \u003d\u003d 1,\n        format\u003dhardcover if book[\"format\"] \u003d\u003d \"Pevná vazba\" else paperback\n    )\n\n    languages \u003d [x.strip() for x in book[\"language\"].split(\",\")]\n    for language in languages:\n        db_book.add(db_book.languages, Language, {\"name\": language})\n    publishers \u003d [x.strip() for x in book[\"publisher\"].split(\",\")]\n    for publisher in publishers:\n        db_book.add(db_book.publishers, Publisher, {\"name\": publisher})\n\n    genre \u003d book[\"genre\"]\n    db_book.add(db_book.genres, Genre, {\"name\": genre})\n\n    authors_raw \u003d book[\"author_details\"].split(\"|\")\n    for author in authors_raw:\n        _ \u003d author.split(\", \")\n        first_name, last_name \u003d _[::-1]\n        f_author \u003d \" \".join((first_name, last_name)).strip()\n        db_author \u003d Author.query.filter(Author.name \u003d\u003d f_author).one_or_none()\n        if not db_author:\n            db_author \u003d Author(\n                first_name\u003dfirst_name,\n                last_name\u003dlast_name\n            )\n        db_book.authors.append(db_author)\n\n    db_session.commit()\n\n    if book[\"series_details\"]:\n        series_pattern \u003d re.compile(r\"(?P\u003ctitle\u003e[^(]+)( ?\\((?P\u003cidx\u003e[0-9.]+)\\))?\")\n        series_raw \u003d book[\"series_details\"].split(\"|\")\n        for series in series_raw:\n            srch \u003d series_pattern.fullmatch(series)\n            title \u003d srch.group(\"title\").strip()\n            idx \u003d float(srch.group(\"idx\")) if srch.group(\"idx\") else 0\n            try:\n                db_series \u003d Series.query.filter(Series.name \u003d\u003d title).one()\n            except NoResultFound:\n                db_series \u003d Series(name\u003dtitle)\n                db_session.commit()\n            try:\n                db_series_index \u003d SeriesIndex.query.filter(SeriesIndex.series \u003d\u003d db_series).filter(SeriesIndex.book \u003d\u003d db_book).one()\n                if db_series_index.idx !\u003d idx:\n                    db_series_index.idx \u003d idx\n            except NoResultFound:\n                db_series_index \u003d SeriesIndex(series\u003ddb_series, book\u003ddb_book, idx\u003didx)\n                db_book.series.append(db_series_index)\n            print(db_series_index)\n\n    db_session.commit()",
      "metadata": {
        "pycharm": {
          "metadata": false,
          "name": "#%%\n",
          "is_executing": false
        }
      }
    },
    {
      "cell_type": "code",
      "execution_count": 13,
      "outputs": [],
      "source": "",
      "metadata": {
        "pycharm": {
          "metadata": false,
          "name": "#%%\n",
          "is_executing": false
        }
      }
    }
  ],
  "metadata": {
    "language_info": {
      "codemirror_mode": {
        "name": "ipython",
        "version": 2
      },
      "file_extension": ".py",
      "mimetype": "text/x-python",
      "name": "python",
      "nbconvert_exporter": "python",
      "pygments_lexer": "ipython2",
      "version": "2.7.6"
    },
    "kernelspec": {
      "name": "python3",
      "language": "python",
      "display_name": "Python 3"
    }
  },
  "nbformat": 4,
  "nbformat_minor": 0
}